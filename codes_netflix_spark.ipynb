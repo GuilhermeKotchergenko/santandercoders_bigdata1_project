{
 "cells": [
  {
   "cell_type": "code",
   "execution_count": null,
   "metadata": {},
   "outputs": [],
   "source": [
    "# PYSPARK\n",
    "from pyspark.sql import SparkSession\n",
    "\n",
    "# Initialize Spark session\n",
    "spark = SparkSession.builder.appName(\"Netflix_ETL\").getOrCreate()\n",
    "\n",
    "# Read csv file\n",
    "\n",
    "%time netflix_df = spark.read.format(\"csv\").option(\"header\", \"true\").load(\"dbfs:/FileStore/tables/netflix_titles_2021-2.csv\")\n",
    "\n",
    "%time netflix_df.display(10)"
   ]
  },
  {
   "cell_type": "code",
   "execution_count": null,
   "metadata": {},
   "outputs": [],
   "source": [
    "# Get the number of rows and columns in the dataframe\n",
    "%time netflix_df.count(), len(netflix_df.columns)\n"
   ]
  },
  {
   "cell_type": "code",
   "execution_count": null,
   "metadata": {},
   "outputs": [],
   "source": [
    "from pyspark.sql.functions import expr\n",
    "\n",
    "# Define the new column names\n",
    "new_columns = {'type':'tipo', 'title':'titulo', 'director':'diretor', 'cast':'elenco',\n",
    "            'country':'pais', 'date_added':'adicionado_em','release_year':'ano_lancamento',\n",
    "            'rating':'avaliacao', 'duration':'duracao', 'listed_in':'categorias', 'description':'descricao'}\n",
    "\n",
    "# Use expr to rename the columns\n",
    "%time netflix_df = netflix_df.select([expr(f\"`{col}` as `{new_col}`\") for col, new_col in new_columns.items()])\n",
    "\n",
    "%time netflix_df.display(10)"
   ]
  },
  {
   "cell_type": "code",
   "execution_count": null,
   "metadata": {},
   "outputs": [],
   "source": [
    "# NÂO CONSEGUI\n",
    "\n",
    "from pyspark.sql.functions import isnan, when, count, round\n",
    "\n",
    "# Count the number of missing values in each column\n",
    "frequencia = netflix_df.select([count(when(isnan(c), c)).alias(c) for c in netflix_df.columns]).toPandas().transpose()\n",
    "%time frequencia = frequencia.rename(columns={0:'Frequência'})\n",
    "\n",
    "# Calculate the percentage of missing values in each column\n",
    "total_rows = netflix_df.count()\n",
    "percentual_na = round((frequencia / total_rows) * 100, 2)\n",
    "%time percentual_na = percentual_na.rename(columns={'Frequência': '% de NAs'})\n",
    "\n",
    "# Combine the count and percentage of missing values\n",
    "valores_na = frequencia.join(percentual_na)\n",
    "\n",
    "print(valores_na)"
   ]
  },
  {
   "cell_type": "code",
   "execution_count": null,
   "metadata": {},
   "outputs": [],
   "source": [
    "from pyspark.sql.types import ShortType\n",
    "\n",
    "%time netflix_df = netflix_df.withColumn(\"ano_lancamento\", netflix_df[\"ano_lancamento\"].cast(ShortType()))"
   ]
  },
  {
   "cell_type": "code",
   "execution_count": null,
   "metadata": {},
   "outputs": [],
   "source": [
    "%time netflix_df.printSchema()"
   ]
  }
 ],
 "metadata": {
  "language_info": {
   "name": "python"
  },
  "orig_nbformat": 4
 },
 "nbformat": 4,
 "nbformat_minor": 2
}
