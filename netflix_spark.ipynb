{
  "cells": [
    {
      "cell_type": "code",
      "execution_count": null,
      "metadata": {
        "id": "r699Cn7nyrQR"
      },
      "outputs": [],
      "source": [
        "# instalar as dependências\n",
        "!apt-get update -qq\n",
        "!apt-get install openjdk-8-jdk-headless -qq > /dev/null\n",
        "!wget -q https://archive.apache.org/dist/spark/spark-3.1.2/spark-3.1.2-bin-hadoop2.7.tgz\n",
        "!tar xf spark-3.1.2-bin-hadoop2.7.tgz\n",
        "!pip install -q findspark"
      ]
    },
    {
      "cell_type": "code",
      "execution_count": null,
      "metadata": {
        "id": "_QIdzzFzzFbE"
      },
      "outputs": [],
      "source": [
        "# determinado as variáveis de ambiente\n",
        "\n",
        "import os\n",
        "#os.environ[\"JAVA_HOME\"] = \"/usr/lib/jvm/java-8-openjdk-amd64\"\n",
        "os.environ[\"SPARK_HOME\"] = \"/content/spark-3.1.2-bin-hadoop2.7\""
      ]
    },
    {
      "cell_type": "code",
      "execution_count": 1,
      "metadata": {
        "id": "aWQ95kRMzO1D"
      },
      "outputs": [],
      "source": [
        "# acha a instalação do spark\n",
        "import findspark\n",
        "findspark.init()"
      ]
    },
    {
      "cell_type": "code",
      "execution_count": 2,
      "metadata": {
        "id": "ryXK_MtRzK4S"
      },
      "outputs": [],
      "source": [
        "# Cria uma seção Spark\n",
        "\n",
        "from pyspark.sql import SparkSession\n",
        "\n",
        "spark = SparkSession.builder \\\n",
        "    .master('local[*]') \\\n",
        "    .appName(\"Iniciando com Spark\") \\\n",
        "    .getOrCreate()"
      ]
    },
    {
      "cell_type": "code",
      "execution_count": 3,
      "metadata": {
        "colab": {
          "base_uri": "https://localhost:8080/",
          "height": 219
        },
        "id": "_cJIrlBxzZNk",
        "outputId": "41eb0c1b-a69b-4b59-94c7-27b8daf17821"
      },
      "outputs": [
        {
          "data": {
            "text/html": [
              "\n",
              "            <div>\n",
              "                <p><b>SparkSession - in-memory</b></p>\n",
              "                \n",
              "        <div>\n",
              "            <p><b>SparkContext</b></p>\n",
              "\n",
              "            <p><a href=\"http://Daniel:4040\">Spark UI</a></p>\n",
              "\n",
              "            <dl>\n",
              "              <dt>Version</dt>\n",
              "                <dd><code>v3.1.2</code></dd>\n",
              "              <dt>Master</dt>\n",
              "                <dd><code>local[*]</code></dd>\n",
              "              <dt>AppName</dt>\n",
              "                <dd><code>Iniciando com Spark</code></dd>\n",
              "            </dl>\n",
              "        </div>\n",
              "        \n",
              "            </div>\n",
              "        "
            ],
            "text/plain": [
              "<pyspark.sql.session.SparkSession at 0x11c51005310>"
            ]
          },
          "execution_count": 3,
          "metadata": {},
          "output_type": "execute_result"
        }
      ],
      "source": [
        "spark"
      ]
    },
    {
      "cell_type": "code",
      "execution_count": 35,
      "metadata": {
        "colab": {
          "base_uri": "https://localhost:8080/"
        },
        "id": "QI1zi_4ozgxa",
        "outputId": "610777f1-2dd5-4b66-80af-a4e769fca17b"
      },
      "outputs": [
        {
          "name": "stdout",
          "output_type": "stream",
          "text": [
            "CPU times: total: 0 ns\n",
            "Wall time: 5.41 s\n"
          ]
        }
      ],
      "source": [
        "# Leitura do arquivo csv\n",
        "%time netflix = spark.read.csv('netflix_titles_2021.csv', sep= ',' , header=True, multiLine=True)"
      ]
    },
    {
      "cell_type": "code",
      "execution_count": 36,
      "metadata": {
        "colab": {
          "base_uri": "https://localhost:8080/"
        },
        "id": "2Gs0SOmn0a0y",
        "outputId": "174937af-6fff-42cc-ae99-b3be9b872627"
      },
      "outputs": [
        {
          "name": "stdout",
          "output_type": "stream",
          "text": [
            "+-------+-------+--------------------+--------------------+--------------------+--------------------+------------------+------------+------+---------+--------------------+--------------------+\n",
            "|show_id|   type|               title|            director|                cast|             country|        date_added|release_year|rating| duration|           listed_in|         description|\n",
            "+-------+-------+--------------------+--------------------+--------------------+--------------------+------------------+------------+------+---------+--------------------+--------------------+\n",
            "|     s1|  Movie|Dick Johnson Is Dead|     Kirsten Johnson|                null|       United States|September 25, 2021|        2020| PG-13|   90 min|       Documentaries|As her father nea...|\n",
            "|     s2|TV Show|       Blood & Water|                null|Ama Qamata, Khosi...|        South Africa|September 24, 2021|        2021| TV-MA|2 Seasons|International TV ...|After crossing pa...|\n",
            "|     s3|TV Show|           Ganglands|     Julien Leclercq|Sami Bouajila, Tr...|                null|September 24, 2021|        2021| TV-MA| 1 Season|Crime TV Shows, I...|To protect his fa...|\n",
            "|     s4|TV Show|Jailbirds New Orl...|                null|                null|                null|September 24, 2021|        2021| TV-MA| 1 Season|Docuseries, Reali...|Feuds, flirtation...|\n",
            "|     s5|TV Show|        Kota Factory|                null|Mayur More, Jiten...|               India|September 24, 2021|        2021| TV-MA|2 Seasons|International TV ...|In a city of coac...|\n",
            "|     s6|TV Show|       Midnight Mass|       Mike Flanagan|Kate Siegel, Zach...|                null|September 24, 2021|        2021| TV-MA| 1 Season|TV Dramas, TV Hor...|The arrival of a ...|\n",
            "|     s7|  Movie|My Little Pony: A...|Robert Cullen, Jo...|Vanessa Hudgens, ...|                null|September 24, 2021|        2021|    PG|   91 min|Children & Family...|Equestria's divid...|\n",
            "|     s8|  Movie|             Sankofa|        Haile Gerima|Kofi Ghanaba, Oya...|United States, Gh...|September 24, 2021|        1993| TV-MA|  125 min|Dramas, Independe...|On a photo shoot ...|\n",
            "|     s9|TV Show|The Great British...|     Andy Devonshire|Mel Giedroyc, Sue...|      United Kingdom|September 24, 2021|        2021| TV-14|9 Seasons|British TV Shows,...|A talented batch ...|\n",
            "|    s10|  Movie|        The Starling|      Theodore Melfi|Melissa McCarthy,...|       United States|September 24, 2021|        2021| PG-13|  104 min|    Comedies, Dramas|A woman adjusting...|\n",
            "+-------+-------+--------------------+--------------------+--------------------+--------------------+------------------+------------+------+---------+--------------------+--------------------+\n",
            "only showing top 10 rows\n",
            "\n",
            "CPU times: total: 0 ns\n",
            "Wall time: 122 ms\n"
          ]
        }
      ],
      "source": [
        "%time netflix.show(n=10, truncate=True, vertical=False)"
      ]
    },
    {
      "cell_type": "code",
      "execution_count": 37,
      "metadata": {
        "colab": {
          "base_uri": "https://localhost:8080/"
        },
        "id": "-K57j1aW1JQp",
        "outputId": "cd976753-f7c8-4fcb-fcdb-6c4b2b6edf41"
      },
      "outputs": [
        {
          "name": "stdout",
          "output_type": "stream",
          "text": [
            "CPU times: total: 0 ns\n",
            "Wall time: 545 ms\n"
          ]
        },
        {
          "data": {
            "text/plain": [
              "(8807, 12)"
            ]
          },
          "execution_count": 37,
          "metadata": {},
          "output_type": "execute_result"
        }
      ],
      "source": [
        "#verificando o tamanho do dataset (shape)\n",
        "%time netflix.count(), len(netflix.columns)"
      ]
    },
    {
      "cell_type": "code",
      "execution_count": 38,
      "metadata": {
        "id": "7jIeP6B22LO5"
      },
      "outputs": [],
      "source": [
        "colunas = {'type':'tipo', 'title':'titulo', 'director':'diretor', 'cast':'elenco',\n",
        "            'country':'pais', 'date_added':'adicionado_em','release_year':'ano_lancamento',\n",
        "            'rating':'avaliacao', 'duration':'duracao', 'listed_in':'categorias', 'description':'descricao'}"
      ]
    },
    {
      "cell_type": "code",
      "execution_count": 39,
      "metadata": {
        "colab": {
          "base_uri": "https://localhost:8080/"
        },
        "id": "Fkby0d5O2dXz",
        "outputId": "2f0a2ca4-f148-47df-d959-0716dd5c7231"
      },
      "outputs": [
        {
          "name": "stdout",
          "output_type": "stream",
          "text": [
            "CPU times: total: 15.6 ms\n",
            "Wall time: 70 ms\n"
          ]
        }
      ],
      "source": [
        "%%time\n",
        "for old_name, new_name in colunas.items():\n",
        "  netflix = netflix.withColumnRenamed(old_name, new_name)"
      ]
    },
    {
      "cell_type": "code",
      "execution_count": 40,
      "metadata": {
        "colab": {
          "base_uri": "https://localhost:8080/"
        },
        "id": "5qMaP9wc3iXw",
        "outputId": "ed086476-a44b-4c53-a0fe-26a2f846b392"
      },
      "outputs": [
        {
          "name": "stdout",
          "output_type": "stream",
          "text": [
            "+-------+-------+--------------------+--------------------+--------------------+--------------------+------------------+--------------+---------+---------+--------------------+--------------------+\n",
            "|show_id|   tipo|              titulo|             diretor|              elenco|                pais|     adicionado_em|ano_lancamento|avaliacao|  duracao|          categorias|           descricao|\n",
            "+-------+-------+--------------------+--------------------+--------------------+--------------------+------------------+--------------+---------+---------+--------------------+--------------------+\n",
            "|     s1|  Movie|Dick Johnson Is Dead|     Kirsten Johnson|                null|       United States|September 25, 2021|          2020|    PG-13|   90 min|       Documentaries|As her father nea...|\n",
            "|     s2|TV Show|       Blood & Water|                null|Ama Qamata, Khosi...|        South Africa|September 24, 2021|          2021|    TV-MA|2 Seasons|International TV ...|After crossing pa...|\n",
            "|     s3|TV Show|           Ganglands|     Julien Leclercq|Sami Bouajila, Tr...|                null|September 24, 2021|          2021|    TV-MA| 1 Season|Crime TV Shows, I...|To protect his fa...|\n",
            "|     s4|TV Show|Jailbirds New Orl...|                null|                null|                null|September 24, 2021|          2021|    TV-MA| 1 Season|Docuseries, Reali...|Feuds, flirtation...|\n",
            "|     s5|TV Show|        Kota Factory|                null|Mayur More, Jiten...|               India|September 24, 2021|          2021|    TV-MA|2 Seasons|International TV ...|In a city of coac...|\n",
            "|     s6|TV Show|       Midnight Mass|       Mike Flanagan|Kate Siegel, Zach...|                null|September 24, 2021|          2021|    TV-MA| 1 Season|TV Dramas, TV Hor...|The arrival of a ...|\n",
            "|     s7|  Movie|My Little Pony: A...|Robert Cullen, Jo...|Vanessa Hudgens, ...|                null|September 24, 2021|          2021|       PG|   91 min|Children & Family...|Equestria's divid...|\n",
            "|     s8|  Movie|             Sankofa|        Haile Gerima|Kofi Ghanaba, Oya...|United States, Gh...|September 24, 2021|          1993|    TV-MA|  125 min|Dramas, Independe...|On a photo shoot ...|\n",
            "|     s9|TV Show|The Great British...|     Andy Devonshire|Mel Giedroyc, Sue...|      United Kingdom|September 24, 2021|          2021|    TV-14|9 Seasons|British TV Shows,...|A talented batch ...|\n",
            "|    s10|  Movie|        The Starling|      Theodore Melfi|Melissa McCarthy,...|       United States|September 24, 2021|          2021|    PG-13|  104 min|    Comedies, Dramas|A woman adjusting...|\n",
            "+-------+-------+--------------------+--------------------+--------------------+--------------------+------------------+--------------+---------+---------+--------------------+--------------------+\n",
            "only showing top 10 rows\n",
            "\n",
            "CPU times: total: 0 ns\n",
            "Wall time: 146 ms\n"
          ]
        }
      ],
      "source": [
        "%time netflix.show(10)"
      ]
    },
    {
      "cell_type": "code",
      "execution_count": 41,
      "metadata": {
        "colab": {
          "base_uri": "https://localhost:8080/"
        },
        "id": "XeP4pS2H8VBl",
        "outputId": "c8496ab7-ddc5-484d-f8c8-f115dbc103b8"
      },
      "outputs": [
        {
          "name": "stdout",
          "output_type": "stream",
          "text": [
            "CPU times: total: 46.9 ms\n",
            "Wall time: 350 ms\n",
            "CPU times: total: 125 ms\n",
            "Wall time: 2.63 s\n",
            "CPU times: total: 15.6 ms\n",
            "Wall time: 115 ms\n",
            "CPU times: total: 0 ns\n",
            "Wall time: 14 ms\n",
            "+-------+----+------+-------+------+-----+-------------+--------------+---------+-------+----------+---------+\n",
            "|show_id|tipo|titulo|diretor|elenco| pais|adicionado_em|ano_lancamento|avaliacao|duracao|categorias|descricao|\n",
            "+-------+----+------+-------+------+-----+-------------+--------------+---------+-------+----------+---------+\n",
            "|    0.0| 0.0|   0.0| 2634.0| 825.0|830.0|         11.0|           0.0|      4.0|    3.0|       0.0|      0.0|\n",
            "|    0.0| 0.0|   0.0|  29.91|  9.37| 9.42|         0.12|           0.0|     0.05|   0.03|       0.0|      0.0|\n",
            "+-------+----+------+-------+------+-----+-------------+--------------+---------+-------+----------+---------+\n",
            "\n",
            "CPU times: total: 0 ns\n",
            "Wall time: 434 ms\n"
          ]
        }
      ],
      "source": [
        "# Verificando os valores ausentes\n",
        "from pyspark.sql import functions as f\n",
        "\n",
        "%time frequencia = netflix.select([f.count(f.when(f.isnull(c), 1)).alias(c) for c in netflix.columns])\n",
        "%time percentual_na = netflix.select([(f.count(f.when(f.isnull(c), 1))/netflix.count() *100).alias(c) for c in netflix.columns])\n",
        "%time percentual_na = percentual_na.select([f.round(c,2).alias(c) for c in percentual_na.columns])\n",
        "%time valores_ausentes = frequencia.unionAll(percentual_na)\n",
        "%time valores_ausentes.show()"
      ]
    },
    {
      "cell_type": "code",
      "execution_count": 42,
      "metadata": {
        "colab": {
          "base_uri": "https://localhost:8080/",
          "height": 460
        },
        "id": "z15aaYIZhyaL",
        "outputId": "9c995557-5888-4dd6-c781-dd4736628f11"
      },
      "outputs": [
        {
          "name": "stdout",
          "output_type": "stream",
          "text": [
            "CPU times: total: 15.6 ms\n",
            "Wall time: 531 ms\n"
          ]
        },
        {
          "data": {
            "text/html": [
              "<div>\n",
              "<style scoped>\n",
              "    .dataframe tbody tr th:only-of-type {\n",
              "        vertical-align: middle;\n",
              "    }\n",
              "\n",
              "    .dataframe tbody tr th {\n",
              "        vertical-align: top;\n",
              "    }\n",
              "\n",
              "    .dataframe thead th {\n",
              "        text-align: right;\n",
              "    }\n",
              "</style>\n",
              "<table border=\"1\" class=\"dataframe\">\n",
              "  <thead>\n",
              "    <tr style=\"text-align: right;\">\n",
              "      <th></th>\n",
              "      <th>Frequência</th>\n",
              "      <th>% de NAs</th>\n",
              "    </tr>\n",
              "  </thead>\n",
              "  <tbody>\n",
              "    <tr>\n",
              "      <th>show_id</th>\n",
              "      <td>0.0</td>\n",
              "      <td>0.00</td>\n",
              "    </tr>\n",
              "    <tr>\n",
              "      <th>tipo</th>\n",
              "      <td>0.0</td>\n",
              "      <td>0.00</td>\n",
              "    </tr>\n",
              "    <tr>\n",
              "      <th>titulo</th>\n",
              "      <td>0.0</td>\n",
              "      <td>0.00</td>\n",
              "    </tr>\n",
              "    <tr>\n",
              "      <th>diretor</th>\n",
              "      <td>2634.0</td>\n",
              "      <td>29.91</td>\n",
              "    </tr>\n",
              "    <tr>\n",
              "      <th>elenco</th>\n",
              "      <td>825.0</td>\n",
              "      <td>9.37</td>\n",
              "    </tr>\n",
              "    <tr>\n",
              "      <th>pais</th>\n",
              "      <td>830.0</td>\n",
              "      <td>9.42</td>\n",
              "    </tr>\n",
              "    <tr>\n",
              "      <th>adicionado_em</th>\n",
              "      <td>11.0</td>\n",
              "      <td>0.12</td>\n",
              "    </tr>\n",
              "    <tr>\n",
              "      <th>ano_lancamento</th>\n",
              "      <td>0.0</td>\n",
              "      <td>0.00</td>\n",
              "    </tr>\n",
              "    <tr>\n",
              "      <th>avaliacao</th>\n",
              "      <td>4.0</td>\n",
              "      <td>0.05</td>\n",
              "    </tr>\n",
              "    <tr>\n",
              "      <th>duracao</th>\n",
              "      <td>3.0</td>\n",
              "      <td>0.03</td>\n",
              "    </tr>\n",
              "    <tr>\n",
              "      <th>categorias</th>\n",
              "      <td>0.0</td>\n",
              "      <td>0.00</td>\n",
              "    </tr>\n",
              "    <tr>\n",
              "      <th>descricao</th>\n",
              "      <td>0.0</td>\n",
              "      <td>0.00</td>\n",
              "    </tr>\n",
              "  </tbody>\n",
              "</table>\n",
              "</div>"
            ],
            "text/plain": [
              "                Frequência  % de NAs\n",
              "show_id                0.0      0.00\n",
              "tipo                   0.0      0.00\n",
              "titulo                 0.0      0.00\n",
              "diretor             2634.0     29.91\n",
              "elenco               825.0      9.37\n",
              "pais                 830.0      9.42\n",
              "adicionado_em         11.0      0.12\n",
              "ano_lancamento         0.0      0.00\n",
              "avaliacao              4.0      0.05\n",
              "duracao                3.0      0.03\n",
              "categorias             0.0      0.00\n",
              "descricao              0.0      0.00"
            ]
          },
          "execution_count": 42,
          "metadata": {},
          "output_type": "execute_result"
        }
      ],
      "source": [
        "%time valores_ausentes.toPandas().transpose().rename(columns={0:'Frequência', 1:'% de NAs'})\n"
      ]
    },
    {
      "cell_type": "code",
      "execution_count": 43,
      "metadata": {
        "colab": {
          "base_uri": "https://localhost:8080/"
        },
        "id": "8HA04YfA6Txu",
        "outputId": "bf2876e1-4543-4f76-b988-a71f58064d86"
      },
      "outputs": [
        {
          "name": "stdout",
          "output_type": "stream",
          "text": [
            "root\n",
            " |-- show_id: string (nullable = true)\n",
            " |-- tipo: string (nullable = true)\n",
            " |-- titulo: string (nullable = true)\n",
            " |-- diretor: string (nullable = true)\n",
            " |-- elenco: string (nullable = true)\n",
            " |-- pais: string (nullable = true)\n",
            " |-- adicionado_em: string (nullable = true)\n",
            " |-- ano_lancamento: string (nullable = true)\n",
            " |-- avaliacao: string (nullable = true)\n",
            " |-- duracao: string (nullable = true)\n",
            " |-- categorias: string (nullable = true)\n",
            " |-- descricao: string (nullable = true)\n",
            "\n",
            "CPU times: total: 0 ns\n",
            "Wall time: 1e+03 µs\n"
          ]
        }
      ],
      "source": [
        "# verificando os tipos de dados do df\n",
        "%time netflix.printSchema()"
      ]
    },
    {
      "cell_type": "code",
      "execution_count": 46,
      "metadata": {
        "colab": {
          "base_uri": "https://localhost:8080/"
        },
        "id": "yBUMef_ynFlt",
        "outputId": "1e5180a0-6cf2-4b64-d2ca-7dcdcb3666fc"
      },
      "outputs": [
        {
          "name": "stdout",
          "output_type": "stream",
          "text": [
            "CPU times: total: 0 ns\n",
            "Wall time: 11 ms\n"
          ]
        }
      ],
      "source": [
        "# Otimizando o tamanho da variável ano_lancamento\n",
        "\n",
        "from pyspark.sql.types import IntegerType, StringType\n",
        "\n",
        "%time netflix = netflix.withColumn('ano_lancamento', netflix['ano_lancamento'].cast(IntegerType()))\n"
      ]
    },
    {
      "cell_type": "code",
      "execution_count": 47,
      "metadata": {},
      "outputs": [
        {
          "name": "stdout",
          "output_type": "stream",
          "text": [
            "+-------+-------+--------------------+--------------------+--------------------+--------------------+------------------+--------------+---------+---------+--------------------+--------------------+\n",
            "|show_id|   tipo|              titulo|             diretor|              elenco|                pais|     adicionado_em|ano_lancamento|avaliacao|  duracao|          categorias|           descricao|\n",
            "+-------+-------+--------------------+--------------------+--------------------+--------------------+------------------+--------------+---------+---------+--------------------+--------------------+\n",
            "|     s1|  Movie|Dick Johnson Is Dead|     Kirsten Johnson|                null|       United States|September 25, 2021|          2020|    PG-13|   90 min|       Documentaries|As her father nea...|\n",
            "|     s2|TV Show|       Blood & Water|                null|Ama Qamata, Khosi...|        South Africa|September 24, 2021|          2021|    TV-MA|2 Seasons|International TV ...|After crossing pa...|\n",
            "|     s3|TV Show|           Ganglands|     Julien Leclercq|Sami Bouajila, Tr...|                null|September 24, 2021|          2021|    TV-MA| 1 Season|Crime TV Shows, I...|To protect his fa...|\n",
            "|     s4|TV Show|Jailbirds New Orl...|                null|                null|                null|September 24, 2021|          2021|    TV-MA| 1 Season|Docuseries, Reali...|Feuds, flirtation...|\n",
            "|     s5|TV Show|        Kota Factory|                null|Mayur More, Jiten...|               India|September 24, 2021|          2021|    TV-MA|2 Seasons|International TV ...|In a city of coac...|\n",
            "|     s6|TV Show|       Midnight Mass|       Mike Flanagan|Kate Siegel, Zach...|                null|September 24, 2021|          2021|    TV-MA| 1 Season|TV Dramas, TV Hor...|The arrival of a ...|\n",
            "|     s7|  Movie|My Little Pony: A...|Robert Cullen, Jo...|Vanessa Hudgens, ...|                null|September 24, 2021|          2021|       PG|   91 min|Children & Family...|Equestria's divid...|\n",
            "|     s8|  Movie|             Sankofa|        Haile Gerima|Kofi Ghanaba, Oya...|United States, Gh...|September 24, 2021|          1993|    TV-MA|  125 min|Dramas, Independe...|On a photo shoot ...|\n",
            "|     s9|TV Show|The Great British...|     Andy Devonshire|Mel Giedroyc, Sue...|      United Kingdom|September 24, 2021|          2021|    TV-14|9 Seasons|British TV Shows,...|A talented batch ...|\n",
            "|    s10|  Movie|        The Starling|      Theodore Melfi|Melissa McCarthy,...|       United States|September 24, 2021|          2021|    PG-13|  104 min|    Comedies, Dramas|A woman adjusting...|\n",
            "|    s11|TV Show|Vendetta: Truth, ...|                null|                null|                null|September 24, 2021|          2021|    TV-MA| 1 Season|Crime TV Shows, D...|\"Sicily boasts a ...|\n",
            "|    s12|TV Show|    Bangkok Breaking|   Kongkiat Komesiri|Sukollawat Kanaro...|                null|September 23, 2021|          2021|    TV-MA| 1 Season|Crime TV Shows, I...|Struggling to ear...|\n",
            "|    s13|  Movie|        Je Suis Karl| Christian Schwochow|Luna Wedler, Jann...|Germany, Czech Re...|September 23, 2021|          2021|    TV-MA|  127 min|Dramas, Internati...|After most of her...|\n",
            "|    s14|  Movie|Confessions of an...|       Bruno Garotti|Klara Castanho, L...|                null|September 22, 2021|          2021|    TV-PG|   91 min|Children & Family...|When the clever b...|\n",
            "|    s15|TV Show|Crime Stories: In...|                null|                null|                null|September 22, 2021|          2021|    TV-MA| 1 Season|British TV Shows,...|Cameras following...|\n",
            "|    s16|TV Show|   Dear White People|                null|Logan Browning, B...|       United States|September 22, 2021|          2021|    TV-MA|4 Seasons|TV Comedies, TV D...|\"Students of colo...|\n",
            "|    s17|  Movie|Europe's Most Dan...|Pedro de Echave G...|                null|                null|September 22, 2021|          2020|    TV-MA|   67 min|Documentaries, In...|Declassified docu...|\n",
            "|    s18|TV Show|     Falsa identidad|                null|Luis Ernesto Fran...|              Mexico|September 22, 2021|          2020|    TV-MA|2 Seasons|Crime TV Shows, S...|Strangers Diego a...|\n",
            "|    s19|  Movie|           Intrusion|          Adam Salky|Freida Pinto, Log...|                null|September 22, 2021|          2021|    TV-14|   94 min|           Thrillers|After a deadly ho...|\n",
            "|    s20|TV Show|              Jaguar|                null|Blanca Suárez, Iv...|                null|September 22, 2021|          2021|    TV-MA| 1 Season|International TV ...|In the 1960s, a H...|\n",
            "+-------+-------+--------------------+--------------------+--------------------+--------------------+------------------+--------------+---------+---------+--------------------+--------------------+\n",
            "only showing top 20 rows\n",
            "\n"
          ]
        }
      ],
      "source": [
        "netflix.show()"
      ]
    },
    {
      "cell_type": "code",
      "execution_count": 48,
      "metadata": {
        "colab": {
          "base_uri": "https://localhost:8080/"
        },
        "id": "-4hlSUygoyZt",
        "outputId": "7e02b6b1-7ff9-4b8b-d591-1767c344be9a"
      },
      "outputs": [
        {
          "name": "stdout",
          "output_type": "stream",
          "text": [
            "root\n",
            " |-- show_id: string (nullable = true)\n",
            " |-- tipo: string (nullable = true)\n",
            " |-- titulo: string (nullable = true)\n",
            " |-- diretor: string (nullable = true)\n",
            " |-- elenco: string (nullable = true)\n",
            " |-- pais: string (nullable = true)\n",
            " |-- adicionado_em: string (nullable = true)\n",
            " |-- ano_lancamento: integer (nullable = true)\n",
            " |-- avaliacao: string (nullable = true)\n",
            " |-- duracao: string (nullable = true)\n",
            " |-- categorias: string (nullable = true)\n",
            " |-- descricao: string (nullable = true)\n",
            "\n",
            "CPU times: total: 0 ns\n",
            "Wall time: 1.99 ms\n"
          ]
        }
      ],
      "source": [
        "%time netflix.printSchema()"
      ]
    },
    {
      "cell_type": "code",
      "execution_count": 50,
      "metadata": {
        "colab": {
          "base_uri": "https://localhost:8080/"
        },
        "id": "ZrNaf5pDpI7C",
        "outputId": "a7b71a09-edfa-4072-fd37-d8ea9fe3efdf"
      },
      "outputs": [
        {
          "name": "stdout",
          "output_type": "stream",
          "text": [
            "CPU times: total: 0 ns\n",
            "Wall time: 20 ms\n",
            "CPU times: total: 0 ns\n",
            "Wall time: 17 ms\n",
            "CPU times: total: 0 ns\n",
            "Wall time: 22 ms\n",
            "CPU times: total: 0 ns\n",
            "Wall time: 17 ms\n"
          ]
        }
      ],
      "source": [
        "# adicionando as colunas mes, dia e ano\n",
        "\n",
        "%time netflix = netflix.withColumn('mes', f.split(netflix['adicionado_em'], ' ').getItem(0))\n",
        "%time netflix = netflix.withColumn('dia', f.split(netflix['adicionado_em'], ' ').getItem(1))\n",
        "# substituindo a vírgula da coluna dia por -\n",
        "%time netflix = netflix.withColumn('dia', f.regexp_replace('dia', ',', ''))\n",
        "%time netflix = netflix.withColumn('ano', f.split(netflix['adicionado_em'], ' ').getItem(2))\n",
        "# adicionando / na coluna ano (-yyyy)\n",
        "#%time netflix = netflix.withColumn(\"ano\", f.concat(f.lit(\"-\"), f.col(\"ano\")))\n",
        "#%time netflix.show()"
      ]
    },
    {
      "cell_type": "code",
      "execution_count": 52,
      "metadata": {
        "colab": {
          "base_uri": "https://localhost:8080/"
        },
        "id": "Quxg8JUIWZbh",
        "outputId": "30f7d85e-d51c-4b3a-be35-df397f25a35e"
      },
      "outputs": [
        {
          "name": "stdout",
          "output_type": "stream",
          "text": [
            "CPU times: total: 0 ns\n",
            "Wall time: 0 ns\n"
          ]
        },
        {
          "data": {
            "text/plain": [
              "{'January': '1',\n",
              " 'February': '2',\n",
              " 'March': '3',\n",
              " 'April': '4',\n",
              " 'May': '5',\n",
              " 'June': '6',\n",
              " 'July': '7',\n",
              " 'August': '8',\n",
              " 'September': '9',\n",
              " 'October': '10',\n",
              " 'November': '11',\n",
              " 'December': '12'}"
            ]
          },
          "execution_count": 52,
          "metadata": {},
          "output_type": "execute_result"
        }
      ],
      "source": [
        "# Cria um dicionário com os valores dos meses\n",
        "\n",
        "import calendar\n",
        "\n",
        "%time meses = dict((month, str(index)) for index, month in enumerate(calendar.month_name) if month)\n",
        "meses"
      ]
    },
    {
      "cell_type": "code",
      "execution_count": 71,
      "metadata": {
        "colab": {
          "base_uri": "https://localhost:8080/"
        },
        "id": "gb6XxEZXYFKP",
        "outputId": "1f71d498-8100-4421-b8b8-1528fb386f41"
      },
      "outputs": [],
      "source": [
        "# função para recuperar os valores dos meses\n",
        "\n",
        "netflix = netflix.replace(meses,subset=['mes'])\n",
        "#%time map_func = f.udf(lambda row : meses.get(row, row))\n",
        "#%time teste = netflix.withColumn('mes', map_func(f.col('mes')))"
      ]
    },
    {
      "cell_type": "code",
      "execution_count": 72,
      "metadata": {},
      "outputs": [
        {
          "name": "stdout",
          "output_type": "stream",
          "text": [
            "root\n",
            " |-- show_id: string (nullable = true)\n",
            " |-- tipo: string (nullable = true)\n",
            " |-- titulo: string (nullable = true)\n",
            " |-- diretor: string (nullable = true)\n",
            " |-- elenco: string (nullable = true)\n",
            " |-- pais: string (nullable = true)\n",
            " |-- adicionado_em: string (nullable = true)\n",
            " |-- ano_lancamento: integer (nullable = true)\n",
            " |-- avaliacao: string (nullable = true)\n",
            " |-- duracao: string (nullable = true)\n",
            " |-- categorias: string (nullable = true)\n",
            " |-- descricao: string (nullable = true)\n",
            " |-- mes: string (nullable = true)\n",
            " |-- dia: string (nullable = true)\n",
            " |-- ano: string (nullable = true)\n",
            "\n"
          ]
        }
      ],
      "source": [
        "netflix.printSchema()"
      ]
    },
    {
      "cell_type": "code",
      "execution_count": 73,
      "metadata": {
        "colab": {
          "base_uri": "https://localhost:8080/"
        },
        "id": "K6GDD1cFce4g",
        "outputId": "95002867-7f5e-4f0f-dbe9-ed5ead87e474"
      },
      "outputs": [
        {
          "name": "stdout",
          "output_type": "stream",
          "text": [
            "CPU times: total: 15.6 ms\n",
            "Wall time: 26 ms\n",
            "CPU times: total: 0 ns\n",
            "Wall time: 36 ms\n",
            "CPU times: total: 0 ns\n",
            "Wall time: 24 ms\n"
          ]
        }
      ],
      "source": [
        "# preenche com 0 as colunas de dia e mes que tem valores < 10\n",
        "\n",
        "%time netflix = netflix.withColumn('mes', f.lpad(netflix.mes,2, '0'))\n",
        "%time netflix = netflix.withColumn(\"mes\", f.concat(f.lit(\"-\"), f.col(\"mes\"), f.lit(\"-\")))\n",
        "%time netflix = netflix.withColumn('dia', f.lpad(netflix.dia,2, '0'))"
      ]
    },
    {
      "cell_type": "code",
      "execution_count": 74,
      "metadata": {
        "colab": {
          "base_uri": "https://localhost:8080/"
        },
        "id": "EP22igqKg3Tp",
        "outputId": "ddd77a93-3bad-4fb6-8fa1-048611617b46"
      },
      "outputs": [
        {
          "name": "stdout",
          "output_type": "stream",
          "text": [
            "CPU times: total: 0 ns\n",
            "Wall time: 20 ms\n"
          ]
        }
      ],
      "source": [
        "# concatenando as colunas ano-mes-dia\n",
        "%time netflix = netflix.withColumn('data', f.concat(netflix.ano, netflix.mes, netflix.dia))"
      ]
    },
    {
      "cell_type": "code",
      "execution_count": 75,
      "metadata": {
        "colab": {
          "base_uri": "https://localhost:8080/"
        },
        "id": "JjpF58OalFEL",
        "outputId": "95851932-61c8-4327-fcef-64fabeb0e4fb"
      },
      "outputs": [
        {
          "name": "stdout",
          "output_type": "stream",
          "text": [
            "CPU times: total: 0 ns\n",
            "Wall time: 12 ms\n"
          ]
        }
      ],
      "source": [
        "# retirando colunas desnecessárias\n",
        "\n",
        "cols = (\"adicionado_em\",\"mes\",\"dia\", \"ano\")\n",
        "\n",
        "%time netflix = netflix.drop(*cols)"
      ]
    },
    {
      "cell_type": "code",
      "execution_count": 76,
      "metadata": {
        "colab": {
          "base_uri": "https://localhost:8080/"
        },
        "id": "lXWtmaQSnLn4",
        "outputId": "10bbb4b4-ddb2-4151-a7c4-bad087816e44"
      },
      "outputs": [
        {
          "name": "stdout",
          "output_type": "stream",
          "text": [
            "CPU times: total: 0 ns\n",
            "Wall time: 8 ms\n"
          ]
        }
      ],
      "source": [
        "# mudando o nome da coluna data para adicionado_em\n",
        "%time netflix = netflix.withColumnRenamed('data', 'adicionado_em')"
      ]
    },
    {
      "cell_type": "code",
      "execution_count": 77,
      "metadata": {
        "id": "H7cVU1PFoG9T"
      },
      "outputs": [
        {
          "name": "stdout",
          "output_type": "stream",
          "text": [
            "CPU times: total: 0 ns\n",
            "Wall time: 18 ms\n"
          ]
        }
      ],
      "source": [
        "# mudando o tipo da variável adicionado_em de str para date\n",
        "\n",
        "%time netflix = netflix.withColumn('adicionado_em', f.to_date(netflix.adicionado_em))"
      ]
    },
    {
      "cell_type": "code",
      "execution_count": 78,
      "metadata": {
        "colab": {
          "base_uri": "https://localhost:8080/"
        },
        "id": "fUPs09K8qY3_",
        "outputId": "f1c32bb5-c8f7-49f1-9a8b-f9e2f25d19df"
      },
      "outputs": [
        {
          "name": "stdout",
          "output_type": "stream",
          "text": [
            "+-------+-------+--------------------+--------------------+--------------------+--------------------+--------------+---------+---------+--------------------+--------------------+-------------+\n",
            "|show_id|   tipo|              titulo|             diretor|              elenco|                pais|ano_lancamento|avaliacao|  duracao|          categorias|           descricao|adicionado_em|\n",
            "+-------+-------+--------------------+--------------------+--------------------+--------------------+--------------+---------+---------+--------------------+--------------------+-------------+\n",
            "|     s1|  Movie|Dick Johnson Is Dead|     Kirsten Johnson|                null|       United States|          2020|    PG-13|   90 min|       Documentaries|As her father nea...|   2021-09-25|\n",
            "|     s2|TV Show|       Blood & Water|                null|Ama Qamata, Khosi...|        South Africa|          2021|    TV-MA|2 Seasons|International TV ...|After crossing pa...|   2021-09-24|\n",
            "|     s3|TV Show|           Ganglands|     Julien Leclercq|Sami Bouajila, Tr...|                null|          2021|    TV-MA| 1 Season|Crime TV Shows, I...|To protect his fa...|   2021-09-24|\n",
            "|     s4|TV Show|Jailbirds New Orl...|                null|                null|                null|          2021|    TV-MA| 1 Season|Docuseries, Reali...|Feuds, flirtation...|   2021-09-24|\n",
            "|     s5|TV Show|        Kota Factory|                null|Mayur More, Jiten...|               India|          2021|    TV-MA|2 Seasons|International TV ...|In a city of coac...|   2021-09-24|\n",
            "|     s6|TV Show|       Midnight Mass|       Mike Flanagan|Kate Siegel, Zach...|                null|          2021|    TV-MA| 1 Season|TV Dramas, TV Hor...|The arrival of a ...|   2021-09-24|\n",
            "|     s7|  Movie|My Little Pony: A...|Robert Cullen, Jo...|Vanessa Hudgens, ...|                null|          2021|       PG|   91 min|Children & Family...|Equestria's divid...|   2021-09-24|\n",
            "|     s8|  Movie|             Sankofa|        Haile Gerima|Kofi Ghanaba, Oya...|United States, Gh...|          1993|    TV-MA|  125 min|Dramas, Independe...|On a photo shoot ...|   2021-09-24|\n",
            "|     s9|TV Show|The Great British...|     Andy Devonshire|Mel Giedroyc, Sue...|      United Kingdom|          2021|    TV-14|9 Seasons|British TV Shows,...|A talented batch ...|   2021-09-24|\n",
            "|    s10|  Movie|        The Starling|      Theodore Melfi|Melissa McCarthy,...|       United States|          2021|    PG-13|  104 min|    Comedies, Dramas|A woman adjusting...|   2021-09-24|\n",
            "|    s11|TV Show|Vendetta: Truth, ...|                null|                null|                null|          2021|    TV-MA| 1 Season|Crime TV Shows, D...|\"Sicily boasts a ...|   2021-09-24|\n",
            "|    s12|TV Show|    Bangkok Breaking|   Kongkiat Komesiri|Sukollawat Kanaro...|                null|          2021|    TV-MA| 1 Season|Crime TV Shows, I...|Struggling to ear...|   2021-09-23|\n",
            "|    s13|  Movie|        Je Suis Karl| Christian Schwochow|Luna Wedler, Jann...|Germany, Czech Re...|          2021|    TV-MA|  127 min|Dramas, Internati...|After most of her...|   2021-09-23|\n",
            "|    s14|  Movie|Confessions of an...|       Bruno Garotti|Klara Castanho, L...|                null|          2021|    TV-PG|   91 min|Children & Family...|When the clever b...|   2021-09-22|\n",
            "|    s15|TV Show|Crime Stories: In...|                null|                null|                null|          2021|    TV-MA| 1 Season|British TV Shows,...|Cameras following...|   2021-09-22|\n",
            "|    s16|TV Show|   Dear White People|                null|Logan Browning, B...|       United States|          2021|    TV-MA|4 Seasons|TV Comedies, TV D...|\"Students of colo...|   2021-09-22|\n",
            "|    s17|  Movie|Europe's Most Dan...|Pedro de Echave G...|                null|                null|          2020|    TV-MA|   67 min|Documentaries, In...|Declassified docu...|   2021-09-22|\n",
            "|    s18|TV Show|     Falsa identidad|                null|Luis Ernesto Fran...|              Mexico|          2020|    TV-MA|2 Seasons|Crime TV Shows, S...|Strangers Diego a...|   2021-09-22|\n",
            "|    s19|  Movie|           Intrusion|          Adam Salky|Freida Pinto, Log...|                null|          2021|    TV-14|   94 min|           Thrillers|After a deadly ho...|   2021-09-22|\n",
            "|    s20|TV Show|              Jaguar|                null|Blanca Suárez, Iv...|                null|          2021|    TV-MA| 1 Season|International TV ...|In the 1960s, a H...|   2021-09-22|\n",
            "+-------+-------+--------------------+--------------------+--------------------+--------------------+--------------+---------+---------+--------------------+--------------------+-------------+\n",
            "only showing top 20 rows\n",
            "\n"
          ]
        }
      ],
      "source": [
        "netflix.show()"
      ]
    },
    {
      "cell_type": "code",
      "execution_count": 79,
      "metadata": {
        "colab": {
          "base_uri": "https://localhost:8080/"
        },
        "id": "ETQPZlW4vMul",
        "outputId": "9ada1274-1f5f-4264-8420-b81654aa2b4f"
      },
      "outputs": [
        {
          "name": "stdout",
          "output_type": "stream",
          "text": [
            "CPU times: total: 0 ns\n",
            "Wall time: 61 ms\n",
            "+--------------------+-----+\n",
            "|          categorias|total|\n",
            "+--------------------+-----+\n",
            "|Dramas, Internati...|  361|\n",
            "|       Documentaries|  358|\n",
            "|     Stand-Up Comedy|  334|\n",
            "|Comedies, Dramas,...|  273|\n",
            "|Dramas, Independe...|  252|\n",
            "+--------------------+-----+\n",
            "only showing top 5 rows\n",
            "\n",
            "CPU times: total: 0 ns\n",
            "Wall time: 2.57 s\n"
          ]
        }
      ],
      "source": [
        "# Agrupando os valores por categorias\n",
        "\n",
        "%time categorias = netflix.groupBy('categorias').agg(f.count(\"*\").alias(\"total\")).sort(f.desc('total'))                \n",
        "%time categorias.show(5)"
      ]
    },
    {
      "cell_type": "code",
      "execution_count": 80,
      "metadata": {
        "colab": {
          "base_uri": "https://localhost:8080/"
        },
        "id": "hw0Co36oyhjT",
        "outputId": "a9902998-25c2-4d08-bc8d-1937bea93436"
      },
      "outputs": [
        {
          "name": "stdout",
          "output_type": "stream",
          "text": [
            "CPU times: total: 0 ns\n",
            "Wall time: 6.01 ms\n",
            "+--------------------+-----+\n",
            "|          categorias|total|\n",
            "+--------------------+-----+\n",
            "|Dramas, Internati...|  361|\n",
            "|       Documentaries|  358|\n",
            "|     Stand-Up Comedy|  334|\n",
            "+--------------------+-----+\n",
            "\n",
            "CPU times: total: 0 ns\n",
            "Wall time: 5.15 s\n"
          ]
        }
      ],
      "source": [
        "# Top 3 categorias\n",
        "\n",
        "%time top_3_categorias = categorias.limit(3)\n",
        "%time top_3_categorias.show()"
      ]
    },
    {
      "cell_type": "code",
      "execution_count": 81,
      "metadata": {
        "colab": {
          "base_uri": "https://localhost:8080/",
          "height": 143
        },
        "id": "zCjRWneg0kfB",
        "outputId": "e58905b8-dee2-4c88-ea5f-3b800fd0ef47"
      },
      "outputs": [
        {
          "data": {
            "text/html": [
              "<div>\n",
              "<style scoped>\n",
              "    .dataframe tbody tr th:only-of-type {\n",
              "        vertical-align: middle;\n",
              "    }\n",
              "\n",
              "    .dataframe tbody tr th {\n",
              "        vertical-align: top;\n",
              "    }\n",
              "\n",
              "    .dataframe thead th {\n",
              "        text-align: right;\n",
              "    }\n",
              "</style>\n",
              "<table border=\"1\" class=\"dataframe\">\n",
              "  <thead>\n",
              "    <tr style=\"text-align: right;\">\n",
              "      <th></th>\n",
              "      <th>categorias</th>\n",
              "      <th>total</th>\n",
              "    </tr>\n",
              "  </thead>\n",
              "  <tbody>\n",
              "    <tr>\n",
              "      <th>0</th>\n",
              "      <td>Dramas, International Movies</td>\n",
              "      <td>361</td>\n",
              "    </tr>\n",
              "    <tr>\n",
              "      <th>1</th>\n",
              "      <td>Documentaries</td>\n",
              "      <td>358</td>\n",
              "    </tr>\n",
              "    <tr>\n",
              "      <th>2</th>\n",
              "      <td>Stand-Up Comedy</td>\n",
              "      <td>334</td>\n",
              "    </tr>\n",
              "  </tbody>\n",
              "</table>\n",
              "</div>"
            ],
            "text/plain": [
              "                     categorias  total\n",
              "0  Dramas, International Movies    361\n",
              "1                 Documentaries    358\n",
              "2               Stand-Up Comedy    334"
            ]
          },
          "execution_count": 81,
          "metadata": {},
          "output_type": "execute_result"
        }
      ],
      "source": [
        "top_3_categorias = top_3_categorias.toPandas()\n",
        "top_3_categorias"
      ]
    },
    {
      "cell_type": "code",
      "execution_count": 82,
      "metadata": {
        "colab": {
          "base_uri": "https://localhost:8080/",
          "height": 330
        },
        "id": "KLwSH_DTzeA7",
        "outputId": "47f7b911-56c5-4953-a12a-7a8cf5911f8d"
      },
      "outputs": [
        {
          "data": {
            "image/png": "[encoded data removed]",
            "text/plain": [
              "<Figure size 640x480 with 1 Axes>"
            ]
          },
          "metadata": {},
          "output_type": "display_data"
        },
        {
          "name": "stdout",
          "output_type": "stream",
          "text": [
            "CPU times: total: 297 ms\n",
            "Wall time: 357 ms\n"
          ]
        }
      ],
      "source": [
        "%%time\n",
        "\n",
        "import matplotlib.pyplot as plt\n",
        "\n",
        "# função para add valores nas barras \n",
        "def addlabels(x,y):\n",
        "    for i in range(len(x)):\n",
        "        plt.text(i, y[i]//2, y[i], ha = 'center', color = 'white')\n",
        "\n",
        "plt.bar(x=top_3_categorias.categorias, height=top_3_categorias.total)\n",
        "plt.xlabel('categorias')\n",
        "plt.title('Top 3 Categorias')\n",
        "addlabels(x=top_3_categorias.categorias, y=top_3_categorias.total)\n",
        "plt.show()"
      ]
    },
    {
      "cell_type": "code",
      "execution_count": 83,
      "metadata": {
        "colab": {
          "base_uri": "https://localhost:8080/",
          "height": 588
        },
        "id": "NmZgMDzn12M2",
        "outputId": "5867d0af-1c64-46af-95a4-b4b9d385d3d4"
      },
      "outputs": [
        {
          "name": "stdout",
          "output_type": "stream",
          "text": [
            "CPU times: total: 0 ns\n",
            "Wall time: 6.99 ms\n",
            "CPU times: total: 0 ns\n",
            "Wall time: 52 ms\n",
            "CPU times: total: 0 ns\n",
            "Wall time: 3 ms\n",
            "+--------------+-----+\n",
            "|          pais|total|\n",
            "+--------------+-----+\n",
            "| United States| 2806|\n",
            "|         India|  972|\n",
            "|United Kingdom|  419|\n",
            "|         Japan|  245|\n",
            "|   South Korea|  199|\n",
            "+--------------+-----+\n",
            "\n",
            "CPU times: total: 0 ns\n",
            "Wall time: 4.29 s\n",
            "CPU times: total: 15.6 ms\n",
            "Wall time: 2.44 s\n",
            "CPU times: total: 0 ns\n",
            "Wall time: 0 ns\n"
          ]
        },
        {
          "data": {
            "text/html": [
              "<div>\n",
              "<style scoped>\n",
              "    .dataframe tbody tr th:only-of-type {\n",
              "        vertical-align: middle;\n",
              "    }\n",
              "\n",
              "    .dataframe tbody tr th {\n",
              "        vertical-align: top;\n",
              "    }\n",
              "\n",
              "    .dataframe thead th {\n",
              "        text-align: right;\n",
              "    }\n",
              "</style>\n",
              "<table border=\"1\" class=\"dataframe\">\n",
              "  <thead>\n",
              "    <tr style=\"text-align: right;\">\n",
              "      <th></th>\n",
              "      <th>pais</th>\n",
              "      <th>total</th>\n",
              "    </tr>\n",
              "  </thead>\n",
              "  <tbody>\n",
              "    <tr>\n",
              "      <th>0</th>\n",
              "      <td>United States</td>\n",
              "      <td>2806</td>\n",
              "    </tr>\n",
              "    <tr>\n",
              "      <th>1</th>\n",
              "      <td>India</td>\n",
              "      <td>972</td>\n",
              "    </tr>\n",
              "    <tr>\n",
              "      <th>2</th>\n",
              "      <td>United Kingdom</td>\n",
              "      <td>419</td>\n",
              "    </tr>\n",
              "    <tr>\n",
              "      <th>3</th>\n",
              "      <td>Japan</td>\n",
              "      <td>245</td>\n",
              "    </tr>\n",
              "    <tr>\n",
              "      <th>4</th>\n",
              "      <td>South Korea</td>\n",
              "      <td>199</td>\n",
              "    </tr>\n",
              "  </tbody>\n",
              "</table>\n",
              "</div>"
            ],
            "text/plain": [
              "             pais  total\n",
              "0   United States   2806\n",
              "1           India    972\n",
              "2  United Kingdom    419\n",
              "3           Japan    245\n",
              "4     South Korea    199"
            ]
          },
          "execution_count": 83,
          "metadata": {},
          "output_type": "execute_result"
        }
      ],
      "source": [
        "# Top 5 Países\n",
        "%time paises = netflix.filter('pais IS NOT NULL')\n",
        "%time paises = paises.groupBy('pais').agg(f.count('*').alias('total')).sort(f.desc('total'))\n",
        "%time top_paises = paises.limit(5)\n",
        "%time top_paises.show()\n",
        "%time top_paises = top_paises.toPandas()\n",
        "%time top_paises"
      ]
    },
    {
      "cell_type": "code",
      "execution_count": 84,
      "metadata": {
        "colab": {
          "base_uri": "https://localhost:8080/",
          "height": 299
        },
        "id": "f44nbx6d2W05",
        "outputId": "4fb7a850-ce0c-4d3d-da96-35db0b2943ed"
      },
      "outputs": [
        {
          "name": "stdout",
          "output_type": "stream",
          "text": [
            "CPU times: total: 0 ns\n",
            "Wall time: 0 ns\n"
          ]
        },
        {
          "data": {
            "image/png": "[encoded data removed]",
            "text/plain": [
              "<Figure size 640x480 with 1 Axes>"
            ]
          },
          "metadata": {},
          "output_type": "display_data"
        }
      ],
      "source": [
        "# plotando o gráfico de pizza\n",
        "%time \n",
        "\n",
        "label = top_paises.pais\n",
        "myexplode = [0.2, 0, 0, 0, 0]\n",
        "plt.pie(top_paises.total, labels=label, explode=myexplode)\n",
        "plt.title('Top 5 países')\n",
        "plt.show()"
      ]
    },
    {
      "cell_type": "code",
      "execution_count": 85,
      "metadata": {
        "colab": {
          "base_uri": "https://localhost:8080/"
        },
        "id": "IU0wRFfT6G2B",
        "outputId": "4d7a3ff7-de75-4d98-a93b-2f805a3d0db3"
      },
      "outputs": [
        {
          "name": "stdout",
          "output_type": "stream",
          "text": [
            "CPU times: total: 0 ns\n",
            "Wall time: 17 ms\n"
          ]
        }
      ],
      "source": [
        "# retirnado os valores nulos do dataset\n",
        "\n",
        "%time netflix_transformado = netflix.na.drop()\n",
        "#%time netflix_transformado.show(5)\n"
      ]
    },
    {
      "cell_type": "code",
      "execution_count": 86,
      "metadata": {
        "colab": {
          "base_uri": "https://localhost:8080/"
        },
        "id": "XpeAUhvhbvRi",
        "outputId": "052ad95f-ca8b-4afa-b3ba-e29f328a1990"
      },
      "outputs": [
        {
          "name": "stdout",
          "output_type": "stream",
          "text": [
            "CPU times: total: 0 ns\n",
            "Wall time: 1.09 s\n"
          ]
        },
        {
          "data": {
            "text/plain": [
              "5312"
            ]
          },
          "execution_count": 86,
          "metadata": {},
          "output_type": "execute_result"
        }
      ],
      "source": [
        "%time netflix_transformado.count()"
      ]
    },
    {
      "cell_type": "code",
      "execution_count": 87,
      "metadata": {
        "colab": {
          "base_uri": "https://localhost:8080/"
        },
        "id": "H_I9ofus8J3K",
        "outputId": "36c87200-39a7-4917-def4-7c182d474789"
      },
      "outputs": [
        {
          "name": "stdout",
          "output_type": "stream",
          "text": [
            "CPU times: total: 0 ns\n",
            "Wall time: 9.99 ms\n",
            "+-------+-------+--------------------+--------------------+--------------------+--------------+--------------+---------+---------+--------------------+--------------------+-------------+\n",
            "|show_id|   tipo|              titulo|             diretor|              elenco|          pais|ano_lancamento|avaliacao|  duracao|          categorias|           descricao|adicionado_em|\n",
            "+-------+-------+--------------------+--------------------+--------------------+--------------+--------------+---------+---------+--------------------+--------------------+-------------+\n",
            "|     s9|TV Show|The Great British...|     Andy Devonshire|Mel Giedroyc, Sue...|United Kingdom|          2021|    TV-14|9 Seasons|British TV Shows,...|A talented batch ...|   2021-09-24|\n",
            "|   s274|TV Show|       Gone for Good|  Juan Carlos Medina|Finnegan Oldfield...|        France|          2021|    TV-MA| 1 Season|Crime TV Shows, I...|Ten years after l...|   2021-08-13|\n",
            "|   s277|TV Show|             Valeria|       Inma Torrente|Diana Gómez, Silm...|         Spain|          2021|    TV-MA|2 Seasons|International TV ...|A writer in creat...|   2021-08-13|\n",
            "|   s298|TV Show|            Navarasa|Bejoy Nambiar, Pr...|Suriya, Vijay Set...|         India|          2021|    TV-MA| 1 Season|            TV Shows|From amusement to...|   2021-08-06|\n",
            "|   s317|TV Show|        Office Girls|         Hsu Fu-chun|Roy Chiu, Alice K...|        Taiwan|          2011|    TV-14| 1 Season|International TV ...|A department stor...|   2021-08-03|\n",
            "+-------+-------+--------------------+--------------------+--------------------+--------------+--------------+---------+---------+--------------------+--------------------+-------------+\n",
            "only showing top 5 rows\n",
            "\n"
          ]
        },
        {
          "data": {
            "text/plain": [
              "142"
            ]
          },
          "execution_count": 87,
          "metadata": {},
          "output_type": "execute_result"
        }
      ],
      "source": [
        "from operator import contains\n",
        "from numpy.lib.function_base import select\n",
        "# separando o dataset por duração (Season)\n",
        "\n",
        "%time season = netflix_transformado.filter(netflix_transformado.duracao.like('%Season%'))\n",
        "\n",
        "season.show(5)\n",
        "season.count()\n"
      ]
    },
    {
      "cell_type": "code",
      "execution_count": 88,
      "metadata": {
        "colab": {
          "base_uri": "https://localhost:8080/"
        },
        "id": "cvCrzzRm-0l9",
        "outputId": "048716e0-8228-4d13-9027-6667ed54ad45"
      },
      "outputs": [
        {
          "name": "stdout",
          "output_type": "stream",
          "text": [
            "CPU times: total: 0 ns\n",
            "Wall time: 7.99 ms\n",
            "+-------+-----+------------+-------------------+--------------------+--------------------+--------------+---------+-------+--------------------+--------------------+-------------+\n",
            "|show_id| tipo|      titulo|            diretor|              elenco|                pais|ano_lancamento|avaliacao|duracao|          categorias|           descricao|adicionado_em|\n",
            "+-------+-----+------------+-------------------+--------------------+--------------------+--------------+---------+-------+--------------------+--------------------+-------------+\n",
            "|     s8|Movie|     Sankofa|       Haile Gerima|Kofi Ghanaba, Oya...|United States, Gh...|          1993|    TV-MA|125 min|Dramas, Independe...|On a photo shoot ...|   2021-09-24|\n",
            "|    s10|Movie|The Starling|     Theodore Melfi|Melissa McCarthy,...|       United States|          2021|    PG-13|104 min|    Comedies, Dramas|A woman adjusting...|   2021-09-24|\n",
            "|    s13|Movie|Je Suis Karl|Christian Schwochow|Luna Wedler, Jann...|Germany, Czech Re...|          2021|    TV-MA|127 min|Dramas, Internati...|After most of her...|   2021-09-23|\n",
            "|    s25|Movie|       Jeans|         S. Shankar|Prashanth, Aishwa...|               India|          1998|    TV-14|166 min|Comedies, Interna...|When the father o...|   2021-09-21|\n",
            "|    s28|Movie|   Grown Ups|       Dennis Dugan|Adam Sandler, Kev...|       United States|          2010|    PG-13|103 min|            Comedies|Mourning the loss...|   2021-09-20|\n",
            "+-------+-----+------------+-------------------+--------------------+--------------------+--------------+---------+-------+--------------------+--------------------+-------------+\n",
            "only showing top 5 rows\n",
            "\n"
          ]
        }
      ],
      "source": [
        "# separando o dataset por duração (Minutos)\n",
        "\n",
        "%time filmes_minutos = netflix_transformado.filter(netflix_transformado.duracao.contains('min'))\n",
        "filmes_minutos.show(5)"
      ]
    },
    {
      "cell_type": "code",
      "execution_count": 89,
      "metadata": {
        "colab": {
          "base_uri": "https://localhost:8080/"
        },
        "id": "hQvK94Cf_dKP",
        "outputId": "8966aab2-8d73-4906-a1a9-a08b093b0174"
      },
      "outputs": [
        {
          "name": "stdout",
          "output_type": "stream",
          "text": [
            "CPU times: total: 15.6 ms\n",
            "Wall time: 32 ms\n",
            "+-------+-----+------------+-------------------+--------------------+--------------------+--------------+---------+-------+--------------------+--------------------+-------------+\n",
            "|show_id| tipo|      titulo|            diretor|              elenco|                pais|ano_lancamento|avaliacao|duracao|          categorias|           descricao|adicionado_em|\n",
            "+-------+-----+------------+-------------------+--------------------+--------------------+--------------+---------+-------+--------------------+--------------------+-------------+\n",
            "|     s8|Movie|     Sankofa|       Haile Gerima|Kofi Ghanaba, Oya...|United States, Gh...|          1993|    TV-MA|    125|Dramas, Independe...|On a photo shoot ...|   2021-09-24|\n",
            "|    s10|Movie|The Starling|     Theodore Melfi|Melissa McCarthy,...|       United States|          2021|    PG-13|    104|    Comedies, Dramas|A woman adjusting...|   2021-09-24|\n",
            "|    s13|Movie|Je Suis Karl|Christian Schwochow|Luna Wedler, Jann...|Germany, Czech Re...|          2021|    TV-MA|    127|Dramas, Internati...|After most of her...|   2021-09-23|\n",
            "|    s25|Movie|       Jeans|         S. Shankar|Prashanth, Aishwa...|               India|          1998|    TV-14|    166|Comedies, Interna...|When the father o...|   2021-09-21|\n",
            "|    s28|Movie|   Grown Ups|       Dennis Dugan|Adam Sandler, Kev...|       United States|          2010|    PG-13|    103|            Comedies|Mourning the loss...|   2021-09-20|\n",
            "+-------+-----+------------+-------------------+--------------------+--------------------+--------------+---------+-------+--------------------+--------------------+-------------+\n",
            "only showing top 5 rows\n",
            "\n"
          ]
        }
      ],
      "source": [
        "# tranformando o valor da duração em minutos (str) para int\n",
        "%time filmes_minutos = filmes_minutos.withColumn('duracao', f.regexp_replace('duracao', ' min', ''))\n",
        "filmes_minutos.show(5)"
      ]
    },
    {
      "cell_type": "code",
      "execution_count": 90,
      "metadata": {
        "colab": {
          "base_uri": "https://localhost:8080/"
        },
        "id": "_qGC0ElVApu1",
        "outputId": "ea50d1a2-d80b-4393-ba25-3139de352246"
      },
      "outputs": [
        {
          "name": "stdout",
          "output_type": "stream",
          "text": [
            "CPU times: total: 46.9 ms\n",
            "Wall time: 13 ms\n",
            "root\n",
            " |-- show_id: string (nullable = true)\n",
            " |-- tipo: string (nullable = true)\n",
            " |-- titulo: string (nullable = true)\n",
            " |-- diretor: string (nullable = true)\n",
            " |-- elenco: string (nullable = true)\n",
            " |-- pais: string (nullable = true)\n",
            " |-- ano_lancamento: integer (nullable = true)\n",
            " |-- avaliacao: string (nullable = true)\n",
            " |-- duracao: integer (nullable = true)\n",
            " |-- categorias: string (nullable = true)\n",
            " |-- descricao: string (nullable = true)\n",
            " |-- adicionado_em: date (nullable = true)\n",
            "\n"
          ]
        }
      ],
      "source": [
        "%time filmes_minutos = filmes_minutos.withColumn('duracao', filmes_minutos['duracao'].cast(IntegerType()))\n",
        "filmes_minutos.printSchema()"
      ]
    },
    {
      "cell_type": "code",
      "execution_count": 91,
      "metadata": {
        "colab": {
          "base_uri": "https://localhost:8080/"
        },
        "id": "uCQSg0JoBLNu",
        "outputId": "28733e64-04bf-4db0-f7f9-b0a7e2a58a0b"
      },
      "outputs": [
        {
          "name": "stdout",
          "output_type": "stream",
          "text": [
            "CPU times: total: 46.9 ms\n",
            "Wall time: 52 ms\n",
            "+---------------+\n",
            "|round(media, 2)|\n",
            "+---------------+\n",
            "|         102.69|\n",
            "+---------------+\n",
            "\n"
          ]
        }
      ],
      "source": [
        "from numpy.core.fromnumeric import mean\n",
        "# Média de duração dos filmes (min)\n",
        "\n",
        "%time media_duracao = filmes_minutos.select(f.mean(filmes_minutos.duracao).alias('media'))\n",
        "media_duracao = media_duracao.select(f.round('media', 2))\n",
        "media_duracao.show()"
      ]
    },
    {
      "cell_type": "code",
      "execution_count": 92,
      "metadata": {
        "colab": {
          "base_uri": "https://localhost:8080/"
        },
        "id": "0hKljyFOCgBg",
        "outputId": "d73f6c09-1cf2-495f-bb32-4637b2dd0848"
      },
      "outputs": [
        {
          "name": "stdout",
          "output_type": "stream",
          "text": [
            "+-------+------------------+\n",
            "|summary|           duracao|\n",
            "+-------+------------------+\n",
            "|  count|              5170|\n",
            "|   mean| 102.6889748549323|\n",
            "| stddev|25.914707009384237|\n",
            "|    min|                 8|\n",
            "|    25%|                89|\n",
            "|    50%|               100|\n",
            "|    75%|               116|\n",
            "|    max|               253|\n",
            "+-------+------------------+\n",
            "\n",
            "CPU times: total: 0 ns\n",
            "Wall time: 2.46 s\n"
          ]
        }
      ],
      "source": [
        "# Verificando as estatísticas básicas do dataset filmes_minutos\n",
        "\n",
        "%time filmes_minutos.select(\"duracao\").summary().show()"
      ]
    },
    {
      "cell_type": "code",
      "execution_count": 93,
      "metadata": {
        "colab": {
          "base_uri": "https://localhost:8080/",
          "height": 300
        },
        "id": "XjOKhSpsEOVL",
        "outputId": "cd9ce72d-1bbe-4073-9899-d36dddc012d8"
      },
      "outputs": [
        {
          "data": {
            "image/png": "[encoded data removed]",
            "text/plain": [
              "<Figure size 640x480 with 1 Axes>"
            ]
          },
          "metadata": {},
          "output_type": "display_data"
        },
        {
          "name": "stdout",
          "output_type": "stream",
          "text": [
            "CPU times: total: 328 ms\n",
            "Wall time: 2.01 s\n"
          ]
        }
      ],
      "source": [
        "%%time\n",
        "\n",
        "# boxplot - verificando outliers\n",
        "\n",
        "filmes_minutos_plot = filmes_minutos.toPandas()\n",
        "\n",
        "bp = plt.boxplot(x='duracao', data=filmes_minutos_plot, vert=1, patch_artist=True, labels=['Duração'])\n",
        "colors = 'blue'\n",
        "for patch, color in zip(bp['boxes'], colors):\n",
        "    patch.set_facecolor(color)\n",
        "for median in bp['medians']:\n",
        "    median.set(color ='red',\n",
        "               linewidth = 3)\n",
        "for whisker in bp['whiskers']:\n",
        "    whisker.set(color ='red',\n",
        "                linewidth = 1.5,\n",
        "                linestyle =\":\")\n",
        "plt.show()"
      ]
    }
  ],
  "metadata": {
    "colab": {
      "provenance": []
    },
    "kernelspec": {
      "display_name": "Python 3",
      "language": "python",
      "name": "python3"
    },
    "language_info": {
      "codemirror_mode": {
        "name": "ipython",
        "version": 3
      },
      "file_extension": ".py",
      "mimetype": "text/x-python",
      "name": "python",
      "nbconvert_exporter": "python",
      "pygments_lexer": "ipython3",
      "version": "3.11.0"
    },
    "vscode": {
      "interpreter": {
        "hash": "c4ee27877db0d7dfa20beaa031b33cbd3d103004fd935eae0f66b13b29d0b4e1"
      }
    }
  },
  "nbformat": 4,
  "nbformat_minor": 0
}
